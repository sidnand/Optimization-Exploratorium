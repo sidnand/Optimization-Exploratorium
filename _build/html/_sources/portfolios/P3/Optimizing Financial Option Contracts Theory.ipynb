{
 "cells": [
  {
   "cell_type": "markdown",
   "metadata": {},
   "source": [
    "# A Theoredical Formulation of Optimizing Financial Options"
   ]
  },
  {
   "cell_type": "markdown",
   "metadata": {},
   "source": [
    "## Introduction\n",
    "\n",
    "### Financial Products\n",
    "\n",
    "Financial products are contracts that allow investors to speculate on the future value of an underlying asset. These products are often used to hedge against risk, speculate on future price movements, or to gain exposure to an asset without having to own it outright. The most common financial products include stocks, bonds (type of loan), and derivatives (assets whose value is derived from an underlying asset).\n",
    "\n",
    "### Derivatives\n",
    "\n",
    "A derivative is a financial contract whose value is derived from the performance of an underlying entity, such as an asset. The first known financial derivative was in ancient Greece, where Thales of Miletus, a philosopher, made a profit by buying the right to use olive presses in advance of the olive harvest. So he made a contract with the owner of the olive presses to lease the presses before the harvest season at a predetermined price. This allowed him to secure a low price for the presses before the harvest. He then rented the presses out at a much higher price during the harvest season, making a profit. (Poitras)\n",
    "\n",
    "### Options Contract\n",
    "\n",
    "An options contract is a financial derivative which allows the holder the right, but not the obligation, to buy (using a call option) or sell (using a put option) an underlying asset at a predetermined price (strike price) before a set expiration date. There exists two types of options, European-style and American-style. A European-style option allows the holder to buy/sell only at the expiry date, as-opposed to an American style, where the holder can buy/sell on or before the expiry date. The price (premium) paid for this right isn't random; it's influenced by an array of factors, including the underlying asset's current price, volatility, time to expiration, and the current interest rates. Several pricing models exist, with the Black-Scholes model providing an influential theoretical foundation for the valuation of European-style options.\n",
    "\n",
    "\n",
    "\n"
   ]
  },
  {
   "cell_type": "markdown",
   "metadata": {},
   "source": [
    "## Black-Scholes Equation\n",
    "\n",
    "The Black-Scholes equation revolutionized the pricing of options contracts. It's a framework for understanding the interplay of key factors such as stock price, volatility, and time in determining the theoretical value of an option. In this exploration, I will delve into the mathematical foundation of the Black-Scholes model and show how it's used for optimizing options trading.\n",
    "\n",
    "### Mathematical Formulation\n",
    "\n",
    "Let:\n",
    "\n",
    "* $t$ be the time to expiration\n",
    "\n",
    "* $S$ be the current price of the underlying asset\n",
    "* $V(t, S)$ be the price of the option at time $t$ given the price of the underlying asset is $S$\n",
    "* $T$ be the expiration date of the option\n",
    "* $K(s_t)$ is the payoff of the option as a function of the price of the underlying asset at time $t$\n",
    "\n",
    "* $r$ be the risk-free interest rate (interest rate on a risk-free investment such as a savings account)\n",
    "* $\\sigma$ be the volatility of the underlying asset (a measure of the asset's price fluctuations, typically the standard deviation of its returns)\n",
    "\n",
    "Then the evolution of the price of an option over time can be modeled by the Black-Scholes partial differential equation (Haugh, 2016):\n",
    "\n",
    "$$\n",
    "\\begin{cases}\n",
    "\\frac{\\partial V}{\\partial t} + \\frac{1}{2} \\sigma^2 S^2 \\frac{\\partial^2 V}{\\partial S^2} + rS \\frac{\\partial V}{\\partial S} - rV = 0\\\\\n",
    "V(T, s) = K(s) ~ \\forall s\\\\\n",
    "\\end{cases}\n",
    "$$\n",
    "\n",
    "* $\\frac{\\partial V}{\\partial t}$ is how the price of the option changes over time.\n",
    "* $\\frac{1}{2} \\sigma^2 S^2 \\frac{\\partial^2 V}{\\partial S^2}$ is how changes in the volatility of the asset's price impact the rate of change of the option price over time.\n",
    "* $rS \\frac{\\partial V}{\\partial S}$ is how changes in the asset price and interest rate impact the rate of change of the option price over time.\n",
    "* $rV$ the oppertunity cost of buying the option (hypothetical interest that could have been earned on the money if it wasn't used to buy the option, and instead invested in a risk-free asset)\n",
    "* $V(T, s) = K(s)$ means that the option's value at expiration is the payoff of the option at expiration.\n",
    "\n",
    "We also assume that $\\frac{dS}{dt} = \\mu S dt + \\sigma S dW$, where $\\mu$ is the average change in the asset's price, $\\sigma$ is the volatility of the asset's price, and $dW$ is a Wiener process to model the randomness in the asset's price.\n",
    "\n",
    "The partial differential equation in the Black-Scholes model essentially states that the price you pay for an option reflects the combined effects of three key factors: changes in the underlying asset's price, fluctuations in its volatility, and the passage of time until the option expires. When you buy an option, you're essentially paying for the potential profit from future price movements of the underlying asset, while also considering the opportunity cost of tying up your money in the option rather than investing it elsewhere. Over time, the value of the option naturally decreases because there's less time for it to potentially become profitable before it expires. This means that as each day passes, the likelihood of the option making money decreases, so its value decreases too. Therefore, the Black-Scholes equation captures these dynamics by equating the opportunity cost of buying the option to the sum of these factors.\n",
    "\n"
   ]
  },
  {
   "cell_type": "markdown",
   "metadata": {},
   "source": [
    "If we solve the Black-Scholes PDE, we can obtain the theoretical price of the option at any time before expiration. The Black-Scholes formula for the theoredical price to buy an option at time $t$ is given by (Investopedia, 2023):\n",
    "\n",
    "$$\n",
    "C(S, t) = S_t N(d_1) - K e^{-r(T-t)} N(d_2)\n",
    "$$\n",
    "\n",
    "Where:\n",
    "\n",
    "* $C(S, t)$ is the price of the call option at time $t$ given the price of the underlying asset is $S$\n",
    "* $N(x)$ is the cumulative distribution function of the standard normal distribution\n",
    "* $d_1 = \\frac{1}{\\sigma \\sqrt{T-t}} \\left[ \\ln \\left( \\frac{S}{K} \\right) + \\left( r + \\frac{\\sigma^2}{2} \\right) (T-t) \\right]$\n",
    "* $d_2 = d_1 - \\sigma \\sqrt{T-t}$"
   ]
  },
  {
   "cell_type": "markdown",
   "metadata": {},
   "source": [
    "## Model to Find the Optimal Options Contract Price\n",
    "\n",
    "It's important to remember that there's no single \"perfect\" price for an options contract. Market prices are always changing, and complex models used by professional traders often involve closely guarded secrets.  This simplified model will help illustrate how pricing models and optimization can be used in options trading.\n",
    "\n",
    "We'll use the well-known Black-Scholes model to help us calculate a theoretical 'fair value' for an options contract. Optimization techniques will then help us adjust this theoretical value to better match what we see in the real market. Our potential profit comes from the difference between what the option might be worth at expiration and the price we pay for it today. We can express our goal in two ways: one in plain English and the other in mathematical terms. The plain English formulation is as follows:\n",
    "\n",
    "**Objective:** Minimize ( Fair Price - Quoted Market Price )$^2$\n",
    "\n",
    "**Decision Variable:** Fair Price, which is the price calculated using the Black-Scholes model\n",
    "\n",
    "**Constraints**\n",
    "\n",
    "* Quoted Market Price >= 0, this is the actual price at which the option is trading in the market\n",
    "* Fair Price >= 0, the price calculated using the Black-Scholes model\n",
    "* Interest Rate ~ Distribution of Market Interest Rates\n",
    "* Volatility ~ Distribution of Market Volatility\n",
    "\n",
    "<br><br><br>\n",
    "\n",
    "The mathematical formulation is as follows:\n",
    "\n",
    "\\begin{align*}\n",
    "\\text{Objective:} & \\quad \\text{Minimize} \\quad (C(S, t) - C_{\\text{market}})^2 \\\\\n",
    "\\text{Subject to:} & \\\\\n",
    "& C(S, t) \\geq 0 \\\\\n",
    "& S \\geq 0 \\\\\n",
    "& K \\geq 0 \\\\\n",
    "& T \\geq 0 \\\\\n",
    "& C_{\\text{market}} \\geq 0 \\\\\n",
    "& r \\sim \\text{Distribution of Market Interest Rates} \\\\\n",
    "& \\sigma \\sim \\text{Distribution of Market Volatility}\n",
    "\\end{align*}"
   ]
  },
  {
   "cell_type": "markdown",
   "metadata": {},
   "source": [
    "**Explanation**\n",
    "\n",
    "This optimization framework bridges the gap between theoretical valuation and market realities:\n",
    "\n",
    "* **The Black-Scholes model** provides a starting point for calculating a 'fair price' based on various factors like the underlying asset's price, strike price, time to expiry, interest rates, and volatility.\n",
    "* **The quoted market price** is the real-world price at which the option is currently trading.\n",
    "* **Optimization** helps us find the implied values for risk-free interest rate ($r$) and volatility ($\\sigma$) within the Black-Scholes model that would best explain the current market price. If these optimized values differ significantly from your expectations of the actual interest rate and volatility, it can suggest that the contract may be overvalued or undervalued. \n",
    "\n",
    "**Example: Finding Optimal Premium for a Call Option**\n",
    "\n",
    "Let's say you want to purchase a call option with:\n",
    "\n",
    "* Strike Price $K$\n",
    "* Time to Expiry $T-t$\n",
    "* Target Purchase Time $t$\n",
    "\n",
    "You gather current market data for:\n",
    "\n",
    "* Underlying Asset Price $S$\n",
    "* Quoted Market Price of the option\n",
    "\n",
    "1. **Initial 'Fair Price':** Input the market data $(S,K,T-t)$, along with initial estimates for interest rate ($r$) and volatility ($\\sigma$) into the Black-Scholes model.\n",
    "2. **Optimization:**  Use optimization to fine-tune the values of  $r$ and $\\sigma$ within the model, such that the calculated 'fair price' aligns closely with the quoted market price.\n",
    "3. **Analysis:** If the optimized $r$ and $\\sigma$ differ greatly from your own expectations, this suggests a potential discrepancy between the theoretical price and the market's perception. This could indicate an overvalued or undervalued option. If it is overvalued, you might consider selling the option. If it is undervalued, you might consider buying the option."
   ]
  },
  {
   "cell_type": "markdown",
   "metadata": {},
   "source": [
    "## Conclusion\n",
    "\n",
    "The Black-Scholes model provides a powerful foundation for understanding option pricing dynamics.  While its assumptions might simplify the complexities of real markets, its core principles continue to inform the pricing and trading of options today. This optimization approach highlights how the Black-Scholes model can be calibrated to reflect current market conditions. By understanding the implied risk-free rate and volatility embedded in an option's quoted price, traders can make more informed decisions about potential overvaluation or undervaluation. Modern finance builds upon the Black-Scholes framework, incorporating more sophisticated models to address volatility changes, risk management, and complex trading strategies.  Its legacy underscores the ongoing quest for accurate pricing models in the ever-evolving world of financial markets."
   ]
  },
  {
   "cell_type": "markdown",
   "metadata": {},
   "source": [
    "## References\n",
    "\n",
    "* Investopedia (2023). Black-Scholes Model: What It Is, How It Works, Options Formula. https://www.investopedia.com/terms/b/blackscholes.asp\n",
    "* Haugh, M. (2016). The Black-Scholes Model. IEOR E4706: Foundations of Financial Engineering. https://www.columbia.edu/~mh2078/FoundationsFE/BlackScholes.pdf\n",
    "* Poitras, G. (n.d.). The Early History of Option Contracts. https://www.sfu.ca/~poitras/heinz_%24%24.pdf\n",
    "\n"
   ]
  },
  {
   "cell_type": "markdown",
   "metadata": {},
   "source": []
  }
 ],
 "metadata": {
  "language_info": {
   "name": "python"
  }
 },
 "nbformat": 4,
 "nbformat_minor": 2
}
