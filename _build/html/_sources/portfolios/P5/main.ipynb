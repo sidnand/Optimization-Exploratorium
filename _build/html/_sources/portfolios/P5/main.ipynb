{
 "cells": [
  {
   "cell_type": "markdown",
   "metadata": {},
   "source": [
    "# Introduction\n",
    "\n",
    "In  economic theory and decentralized markets, the dynamics of bilateral trade and the impact of asymmetric information (individuals have different information) have been subjects of considerable intrigue. The interplay between buyers and sellers in such settings often involves intermediaries, creating a complex web of interactions. *Asymmetric Information and Intermediation Chains* (2016) by Vincent Glode and Christian Opp propose a model to study bilateral trade under asymmetric information, giving insight into how intermediation chains can optimize trade in decentralized markets. Due to the length of the paper, this summary will focus on just one intermediatory relationship, but the paper explores multiple intermediaries and also implementation details on a hypothetical trading game.\n",
    "\n",
    "The paper addresses a classic economic problem where powerful agents exploit their position by utilizing undisclosed information to trade with. For example, a home seller who has private information about the condition of their home. They may abuse their position so not to disclose negative information about their home which would lower the selling price. However, the research introduces a paradoxical twist, suggesting that the inclusion of moderately informed intermediaries, endowed with market power, can contribute to enhanced trade efficiency. The focus lies on understanding the role of these intermediaries in mitigating challenges associated with information disparities and improving the overall efficiency of trade processes."
   ]
  },
  {
   "cell_type": "markdown",
   "metadata": {},
   "source": [
    "# Direct Buyer Seller\n",
    "\n",
    "For a direct buyer and seller marker, the goal is to maximize the profit function, $\\Pi(p)$, where $p$ is the quoted price. The optimization function is defined as:\n",
    "\n",
    "$$ \\text{maximize } \\Pi(p) = \\mathbb{P}(v \\geq p)p + \\mathbb{P}(v < p)c $$\n",
    "$$ \\text{subject to} $$\n",
    "$$ p \\in [\\alpha, \\beta] $$\n",
    "$$ v \\sim F \\in [\\gamma, \\beta] $$\n",
    "$$ c \\geq 0 $$\n",
    "\n",
    "The objective function is the difference between the expected gain from the buyer plus the cost to the seller. Here $p$ is the optimal price at which the seller should trade. $p$ is within some range $[\\alpha, \\beta]$, where $\\alpha$ is the minimum price the seller would sell and $\\beta$ is the maximum price the buyer would pay. $v$ is the buyer's valuation of the asset, it follows a distribution $F$ within the range $[\\gamma, \\beta]$. The buyer does not have enough information about the product compared to the buyer, so there price belief would be a range with different liklihoods for different prices. $c$ is a constant representing the asset's worth to the seller. The optimization problem is to find the optimal price $p$ within the range $[\\alpha, \\beta]$.\n",
    "\n",
    "Optimizing this function can be quite complex and depends on the distribution of $v$. The paper assumed that $v$ is uniformly distributed between 1 and 2. The first-order condition implies that the seller should quote a price $p = 1.5$ if $c \\leq 0.5$. This is the socially efficient price. The paper then explores the implications of this result and how it can be extended to multiple intermediaries.\n"
   ]
  },
  {
   "cell_type": "markdown",
   "metadata": {},
   "source": [
    "# One Middle Person Intermediary\n",
    "\n",
    "In this section, we explore how trade dynamics change when a middleman enters the picture, possessing valuable signals about the asset's value. This middleman, better informed than the seller but not as well informed as the buyer, aims to facilitate transactions between the original seller and the end buyer.\n",
    "\n",
    "The middleman's information comes in the form of $N$ possible signal outcomes, each associated with a conditional distribution $F_i(v)$ representing the likelihood of different asset values. While the middleman may not possess perfect knowledge, their involvement can potentially boost trade efficiency through a structured trading network. Here's the process: the original seller offers the asset exclusively to the middleman, who then has the option to resell it to the buyer. All transactions involve ultimatum offers.\n",
    "\n",
    "For trade to remain efficient with the middleman, they need to quote prices that ensure acceptance by the buyer. To maximize profit, the middleman will quote the lowest possible valuation of the asset to the buyer, denoted as $v_i$.\n",
    "\n",
    "The efficiency of trade with a middleman hinges on the quality of the information they possess.  When the middleman's signals accurately pinpoint a narrow range of probable values for the asset, it significantly reduces uncertainty for both the buyer and the seller. This focused information allows the middleman to confidently offer prices closer to the asset's true worth, facilitating efficient transactions. For example, consider a real estate agent acting as a middleman. If they have detailed knowledge of recent comparable sales in the area, they can provide both the seller and potential buyers with a focused price range. However, there's a trade-off. Highly concentrated information signals, while beneficial, also limit the middleman's flexibility to adjust prices if the buyer has a valuation outside of the predicted range. This can sometimes hinder trade from occurring despite the middleman's attempt to streamline the process.\n",
    "\n",
    "Introducing a middleman creates a trading network where the original seller and the end buyer may not interact directly. This can broaden the range of asset valuations where efficient trade is possible. On the other hand, it does introduce potential inefficiencies, depending on the conditional signal distributions and the expected breakdown probability between the middleman and the buyer.\n",
    "\n",
    "In some cases, incorporating additional middlemen could further mitigate inefficiencies, especially when middleman-to-buyer trades are not perfectly efficient. This section carefully analyzes the complex conditions and factors that influence the efficiency gains achievable through intermediary-facilitated trade."
   ]
  },
  {
   "cell_type": "markdown",
   "metadata": {},
   "source": [
    "# Multiple Middle Person Intermediaries (Example)\n",
    "\n",
    "This is an example I created to better explain how adding multiple intermediaries can improve trade efficiency.\n",
    "\n",
    "**Scenario: Reselling a Collectible Watch**\n",
    "\n",
    "Image a rare watch, which first sells through an auction house, which establishes its value and sells it to an initial buyer. This buyer later resells through a second-market dealer specializing in collectible watches, who leverages their expertise and network to find a new buyer.\n",
    "\n",
    "**How Intermediaries Facilitate Fair Prices**\n",
    "\n",
    "* **Evolving Information:** Each stage involves new information coming into play. The auction house establishes an initial baseline value, denoted as  $v_0$. The second-market dealer, armed with knowledge of recent market trends and the specific watch's performance in previous auctions, can adjust this value to reflect current market realities. Denote the second-market dealers price as $v_a$.\n",
    "\n",
    "* **Specialized Networks:**  Both the auction house and the dealer access different pools of motivated buyers, increasing the chance of finding someone who values the watch highly. The auction house might attract a broader audience of collectors, while the second-market dealer might have a more targeted network of enthusiasts specializing in the specific watchmaker or style. This expanded reach creates a more competitive buyer pool, which can drive the price closer to the watch's true fair market value.\n",
    "\n",
    "* **Price Adjustment:** If Buyer A got a good deal initially $(v_i < v_a)$, the dealer can capture some of that increased value through their commission on the resale. This can be seen as a reward for the dealer's expertise in identifying undervalued assets and bringing them to the right buyers. If market demand has cooled, the dealer adjusts the price downward to reflect reality and avoid the watch sitting on the market. This price flexibility helps maintain a balance between seller expectations and buyer willingness to pay.\n",
    "\n",
    "* **Reduced Friction:** Intermediaries make it easier for both sellers and buyers to find each other and transact confidently. The auction house facilitates a structured bidding process with clear rules, while the dealer provides assurances of authenticity and potential after-sales service. This reduces transaction costs (e.g., time spent searching for buyers) and information asymmetry, leading to a more efficient market where fair prices are more likely to be discovered.\n",
    "\n",
    "**Key Point:** In secondary markets, intermediaries play a continuous role in price discovery. They incorporate new information about the asset, market conditions, and buyer preferences with each transaction."
   ]
  },
  {
   "cell_type": "markdown",
   "metadata": {},
   "source": [
    "# Conclusion\n",
    "\n",
    "In summary, this paper demonstrates the strategic value of moderately informed intermediaries in mitigating inefficiencies caused by asymmetric information and screening behaviors in the trading process. Intermediaries create a sequential layering effect that reduces the screening incentives of traders with market power, leading to increased trade efficiency. The study suggests that constructing carefully designed chains of intermediation – where each intermediary possesses complementary information sets –  offers a promising way to bridge information gaps and foster more efficient, collaborative trade environments. While acknowledging potential challenges like double marginalization, the findings highlight the significant potential of intermediation and pave the way for further research into optimizing these complex trade dynamics."
   ]
  },
  {
   "cell_type": "markdown",
   "metadata": {
    "tags": []
   },
   "source": [
    "# References {-}\n",
    "\n",
    "Glode, V., & Opp, C. (2016). Asymmetric Information and Intermediation Chains. In American Economic Review (Vol. 106, Issue 9, pp. 2699–2721). American Economic Association. https://doi.org/10.1257/aer.20140662"
   ]
  }
 ],
 "metadata": {
  "kernelspec": {
   "display_name": "Python 3",
   "language": "python",
   "name": "python3"
  },
  "language_info": {
   "codemirror_mode": {
    "name": "ipython",
    "version": 3
   },
   "file_extension": ".py",
   "mimetype": "text/x-python",
   "name": "python",
   "nbconvert_exporter": "python",
   "pygments_lexer": "ipython3",
   "version": "3.12.0"
  }
 },
 "nbformat": 4,
 "nbformat_minor": 2
}
