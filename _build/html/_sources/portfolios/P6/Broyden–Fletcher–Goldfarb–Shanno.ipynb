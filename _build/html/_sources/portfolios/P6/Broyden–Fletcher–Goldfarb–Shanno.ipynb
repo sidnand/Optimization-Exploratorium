{
 "cells": [
  {
   "cell_type": "markdown",
   "metadata": {},
   "source": [
    "# Introduction\n",
    "\n",
    "Broyden–Fletcher–Goldfarb–Shanno (BFGS) algorithm is an iterative method for solving unconstrained nonlinear optimization problems. It is a quasi-Newton method, meaning that it is a Newton-like method that does not require the computation of second derivatives. The BFGS algorithm is a popular choice for solving large-scale optimization problems, and it is widely used in machine learning and deep learning."
   ]
  },
  {
   "cell_type": "markdown",
   "metadata": {},
   "source": []
  }
 ],
 "metadata": {
  "language_info": {
   "name": "python"
  }
 },
 "nbformat": 4,
 "nbformat_minor": 2
}
