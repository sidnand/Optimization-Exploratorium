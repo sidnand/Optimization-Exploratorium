{
 "cells": [
  {
   "cell_type": "markdown",
   "metadata": {},
   "source": [
    "# Solving the N-Queens Problem using Constraint Programming"
   ]
  },
  {
   "cell_type": "markdown",
   "metadata": {},
   "source": [
    "## Introduction\n",
    "\n",
    "The N-Queens Problem stands as one of the classic challenges in the realm of combinatorial optimization and constraint satisfaction. Originating from the venerable game of chess, this problem poses the task of placing N queens on an $N \\times N$ chessboard in such a manner that no two queens threaten each other. In this paper, we apply a constraint programming approach, which was discussed in a previous paper.\n",
    "\n",
    "### Constraint Programming Review\n",
    "\n",
    "Constraint Programming (CP) is a subset of discrete optimization that focuses on solving combinatorial problems by modeling them as a set of constraints. These constraints are used to define the feasible region of the problem, which is then searched for a solution. The CP approach is particularly well-suited for problems that can be expressed in terms of logical constraints, such as the N-Queens Problem."
   ]
  },
  {
   "cell_type": "markdown",
   "metadata": {},
   "source": [
    "## Problem Formulation\n",
    "\n",
    "\n",
    "**Problem Statement:** Given an $N \\times N$ chessboard, place $N$ queens on the board such that no two queens threaten each other. In chess, a queen can attack any piece horizontally, vertically, or diagonally.\n",
    "\n",
    "**Variables:**\n",
    "- $N$ variables representing the column positions of the queens. Let $Q_i$ represent the column position of the queen in row $i$.\n",
    "\n",
    "**Domains:**\n",
    "- Each variable $Q_i$ can take on values from $1$ to $N$, representing the column positions where queens can be placed.\n",
    "\n",
    "**Constraints:**\n",
    "1. **No Two Queens in the Same Column or Row:**\n",
    "\n",
    "   $\\sum_{i=1}^{N} \\sum_{j=i+1}^{N} (Q_i \\neq Q_j)$\n",
    "   \n",
    "   Ensures that no two queens occupy the same column.\n",
    "\n",
    "2. **No Two Queens in the Same Diagonal:**\n",
    "\n",
    "   $\\sum_{i=1}^{N} \\sum_{j=i+1}^{N} (|Q_i - Q_j| \\neq |i - j|)$\n",
    "   \n",
    "   $\\sum_{i=1}^{N} \\sum_{j=i+1}^{N} (|Q_i + Q_j| \\neq |i + j|)$\n",
    "   \n",
    "   Ensures that no two queens occupy the down-right and up-right diagonals.\n",
    "\n",
    "**Objective Function (Optional):**\n",
    "\n",
    "For this problem, the objective function is not required. The goal is to find a valid placement of queens on the board that satisfies all the constraints. However, if we modify the problem to include an objective function, we can, for example, minimize the number of moves required to place all queens on the board."
   ]
  },
  {
   "cell_type": "markdown",
   "metadata": {},
   "source": [
    "## Implementation\n",
    "\n",
    "We will use the `ortools` library to solve the N-Queens Problem using Constraint Programming. The `ortools` library has two CP solvers: the CP-SAT solver and the Original CP solver.\n",
    "\n",
    "**CP-SAT Solver:** This solver uses SAT (Satisfiability) techniques to solve the CP model. It works by converting the CP model into a Boolean satisfiability problem and then using a SAT solver to find a solution. SAT is a method for solving discrete optimization problems that involve converting the problem into a Boolean formula and then finding a satisfying assignment for the variables. (Google OR-Tools, 2024)\n",
    "\n",
    "**Original CP Solver:** This solver uses a traditional CP approach to solve the CP model. It works by searching for a solution using constraint propagation and backtracking. (Google OR-Tools, 2024)"
   ]
  },
  {
   "cell_type": "code",
   "execution_count": 1,
   "metadata": {},
   "outputs": [],
   "source": [
    "from ortools.sat.python import cp_model\n",
    "from PIL import Image, ImageDraw"
   ]
  },
  {
   "cell_type": "markdown",
   "metadata": {},
   "source": [
    "The `solve(N)` function takes the size of the chessboard as input and returns a list of column positions for each queen. Here is a breakdown of the function:\n",
    "\n",
    "1. **Create the CP model:** Create a CP model using the CP solver.\n",
    "2. **Define the variables:** Create a list of variables representing the column positions of the queens. The array of variables will look like this:\n",
    "   \n",
    "   `queens = ['queen_1', 'queen_2', ..., 'queen_N']`\n",
    "\n",
    "3. **Define the constraints:** Add the constraints to the model to ensure that no two queens threaten each other. The code is very similar to the mathematical formulation of the constraints.\n",
    "\n",
    "4. **Create the solver:** Create the solver and solve the model.\n",
    "\n",
    "5. **Extract the solution:** If a solution is found, extract the column positions of the queens and return them as a list."
   ]
  },
  {
   "cell_type": "code",
   "execution_count": 2,
   "metadata": {},
   "outputs": [],
   "source": [
    "def solve(N):\n",
    "    model = cp_model.CpModel()\n",
    "\n",
    "    queens = [model.NewIntVar(1, N, 'queens_%i' % i) for i in range(N)]\n",
    "\n",
    "    # All queens in different columns and rows\n",
    "    for i in range(N):\n",
    "        for j in range(i):\n",
    "            model.Add(queens[i] != queens[j])\n",
    "\n",
    "    # No two queens in the same diagonal; down-right and up-right\n",
    "    for i in range(N):\n",
    "        for j in range(i):\n",
    "            model.Add(queens[i] != queens[j] + (i - j))\n",
    "            model.Add(queens[i] != queens[j] - (i - j))\n",
    "        \n",
    "    solver = cp_model.CpSolver()\n",
    "    status = solver.Solve(model)\n",
    "\n",
    "    if status == cp_model.OPTIMAL:\n",
    "        return [solver.Value(queens[i]) for i in range(N)]\n",
    "    else:\n",
    "        return None"
   ]
  },
  {
   "cell_type": "markdown",
   "metadata": {},
   "source": [
    "The `visualize(solution, N)` function takes the solution and the size of the chessboard as input and visualizes the placement of queens on the board. It uses the `PIL` library to draw the chessboard and the queens."
   ]
  },
  {
   "cell_type": "code",
   "execution_count": 3,
   "metadata": {},
   "outputs": [],
   "source": [
    "def visualize(solution, N):\n",
    "    square_size = 50\n",
    "    board_size = N * square_size \n",
    "    image = Image.new(\"RGB\", (board_size, board_size), \"white\")\n",
    "    draw = ImageDraw.Draw(image)\n",
    "\n",
    "    # Draw chessboard squares\n",
    "    for i in range(N):\n",
    "        for j in range(N):\n",
    "            x0 = j * square_size\n",
    "            y0 = i * square_size\n",
    "            x1 = x0 + square_size\n",
    "            y1 = y0 + square_size\n",
    "            if (i + j) % 2 == 0:\n",
    "                 draw.rectangle([x0, y0, x1, y1], fill=\"lightgray\")\n",
    "\n",
    "    # Draw queens, blue circles\n",
    "    for i in range(N):\n",
    "        x = i * square_size + square_size // 2\n",
    "        y = solution[i] * square_size - square_size // 2\n",
    "        draw.ellipse([x - square_size // 4, y - square_size // 4, x + square_size // 4, y + square_size // 4], fill=\"blue\")\n",
    "        \n",
    "    image.save(f\"queens_{N}.png\")"
   ]
  },
  {
   "cell_type": "markdown",
   "metadata": {},
   "source": [
    "## Solutions\n",
    "\n",
    "Below are the solutions for the N-Queens Problem for different board sizes: 4, 6, 8, and 20. The blue circles represent the queens on the board."
   ]
  },
  {
   "cell_type": "code",
   "execution_count": 4,
   "metadata": {},
   "outputs": [],
   "source": [
    "N = 4\n",
    "solution = solve(N)\n",
    "if solution: visualize(solution, N)"
   ]
  },
  {
   "cell_type": "markdown",
   "metadata": {},
   "source": [
    "![queens_4.png](queens_4.png)"
   ]
  },
  {
   "cell_type": "code",
   "execution_count": 5,
   "metadata": {},
   "outputs": [],
   "source": [
    "N = 6\n",
    "solution = solve(N)\n",
    "if solution: visualize(solution, N)"
   ]
  },
  {
   "cell_type": "markdown",
   "metadata": {},
   "source": [
    "![queens_6.png](queens_6.png)"
   ]
  },
  {
   "cell_type": "code",
   "execution_count": 6,
   "metadata": {},
   "outputs": [],
   "source": [
    "N = 8\n",
    "solution = solve(N)\n",
    "if solution: visualize(solution, N)"
   ]
  },
  {
   "cell_type": "markdown",
   "metadata": {},
   "source": [
    "![queens_8.png](queens_8.png)"
   ]
  },
  {
   "cell_type": "code",
   "execution_count": 7,
   "metadata": {},
   "outputs": [],
   "source": [
    "N = 12\n",
    "solution = solve(N)\n",
    "if solution: visualize(solution, N)"
   ]
  },
  {
   "cell_type": "markdown",
   "metadata": {},
   "source": [
    "![queens_12.png](queens_12.png)"
   ]
  },
  {
   "cell_type": "markdown",
   "metadata": {},
   "source": [
    "## Conclusion\n",
    "\n",
    "So from the above results, we can see that the N-Queens Problem can be effectively solved using Constraint Programming. The `ortools` library provides a powerful and efficient way to model and solve combinatorial problems like the N-Queens Problem. By formulating the problem as a set of constraints and using a CP solver, we can find valid solutions that satisfy all the constraints. The visualization of the solutions helps us understand the placement of queens on the board and verify that no two queens threaten each other."
   ]
  },
  {
   "cell_type": "markdown",
   "metadata": {},
   "source": [
    "## References\n",
    "\n",
    "- Google OR-Tools. (2024). Constraint Optimization. Google for Developers. https://developers.google.com/optimization/cp"
   ]
  }
 ],
 "metadata": {
  "kernelspec": {
   "display_name": "Python 3",
   "language": "python",
   "name": "python3"
  },
  "language_info": {
   "codemirror_mode": {
    "name": "ipython",
    "version": 3
   },
   "file_extension": ".py",
   "mimetype": "text/x-python",
   "name": "python",
   "nbconvert_exporter": "python",
   "pygments_lexer": "ipython3",
   "version": "3.12.2"
  }
 },
 "nbformat": 4,
 "nbformat_minor": 2
}
