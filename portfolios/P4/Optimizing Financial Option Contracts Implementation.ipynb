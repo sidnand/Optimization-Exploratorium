{
 "cells": [
  {
   "cell_type": "markdown",
   "metadata": {},
   "source": [
    "# An Implementation of Optimizing Options Trading"
   ]
  },
  {
   "cell_type": "markdown",
   "metadata": {},
   "source": [
    "## Introduction\n",
    "\n",
    "This is a continuation of a previous notebook titled *Optimizing Financial Option Contracts - Theory*. This notebook will cover the implementation details of optimizing financial options contracts using the `scipy` library.\n",
    "\n",
    "### Review\n",
    "The Black-Scholes PDE is given by:\n",
    "\n",
    "$$\n",
    "C(S, t) = S_t N(d_1) - K e^{-r(T-t)} N(d_2)\n",
    "$$\n",
    "\n",
    "Where:\n",
    "\n",
    "* $C(S, t)$ is the price of the call option at time $t$ given the price of the underlying asset is $S$\n",
    "* $N(x)$ is the cumulative distribution function of the standard normal distribution\n",
    "* $d_1 = \\frac{1}{\\sigma \\sqrt{T-t}} \\left[ \\ln \\left( \\frac{S}{K} \\right) + \\left( r + \\frac{\\sigma^2}{2} \\right) (T-t) \\right]$\n",
    "* $d_2 = d_1 - \\sigma \\sqrt{T-t}$\n",
    "\n",
    "Optimizing black-scholes involves finding the price to buy an option at time $t$ which maximizes the payoff. This can be written as:\n",
    "\n",
    "\\begin{align*}\n",
    "\\text{Objective:} & \\quad \\text{Minimize}_{r, \\sigma} \\quad (C(S, t) - C_{\\text{market}})^2 \\\\\n",
    "\\text{Subject to:} & \\\\\n",
    "& C(S, t) \\geq 0 \\\\\n",
    "& C_{\\text{market}} \\geq 0 \\\\\n",
    "& r \\sim \\text{Distribution of Market Interest Rates} \\\\\n",
    "& \\sigma \\sim \\text{Distribution of Market Volatility}\n",
    "\\end{align*}\n",
    "\n",
    "The goal is to check if a given options contract is underpriced or overpriced in our current economic environment. This can be done by finding the optimal values of $r$ and $\\sigma$ that minimize the difference between the theoretical price and the market price of the option. If there is a difference between the theoretical $r$ and $\\sigma$ and the current $r$ and $\\sigma$, then this tells us that the option is either underpriced or overpriced."
   ]
  },
  {
   "cell_type": "markdown",
   "metadata": {},
   "source": [
    "## Implementation"
   ]
  },
  {
   "cell_type": "markdown",
   "metadata": {},
   "source": [
    "### Assumptions\n",
    "\n",
    "There are many ways we can optimize the Black-Scholes model. For this implementation, we will make the following assumptions:\n",
    "\n",
    "1. The volatility is uniformly distributed between 0.1 and 1\n",
    "\n",
    "1. The interest rate parameter is uniformly distributed between 0.005 and 0.1\n",
    "\n",
    "### Objective Function\n",
    "\n",
    "Options pricing optimizing is a non-concave optimization problem. CVXPY is a convex optimization library, so it is not suitable for this problem. We will use SciPy optimization library to solve this problem. Therefore, we used `SciPy` optimization library, which is more powerful and flexible than `CVXPY` for this problem.\n",
    "\n",
    "Due to the non-convex nature of this problem, `SciPy` uses Sequential Least SQuares Programming (SLSQP) to solve this problem. SLSQP iteratively approximates the objective function and constraints using quadratic models, aiming to minimize the model while satisfying constraints. It updates the solution until convergence, making it effective for nonlinear optimization problems where convex techniques may not apply."
   ]
  },
  {
   "cell_type": "markdown",
   "metadata": {},
   "source": [
    "### Code"
   ]
  },
  {
   "cell_type": "code",
   "execution_count": 365,
   "metadata": {},
   "outputs": [],
   "source": [
    "import numpy as np\n",
    "from scipy.stats import norm\n",
    "from scipy.optimize import minimize"
   ]
  },
  {
   "cell_type": "markdown",
   "metadata": {},
   "source": [
    "Below, we will implement the optimization of the Black-Scholes model, which takes the current price of the underlying asset, the strike price, the time to maturity, and the market price of the option as inputs. The black-scholes model will then return the theoretical price of the option. Our objective function takes the theoretical price of the option and the market price of the option as inputs and returns the squared difference between the two. We will then use the `scipy.optimize.minimize` function to find the optimal parameters that minimize the objective function."
   ]
  },
  {
   "cell_type": "code",
   "execution_count": 359,
   "metadata": {},
   "outputs": [],
   "source": [
    "def black_scholes(S, K, T, r, sigma):\n",
    "    d1 = (np.log(S / K) + (r + 0.5 * sigma ** 2) * T) / (sigma * np.sqrt(T))\n",
    "    d2 = d1 - sigma * np.sqrt(T)\n",
    "    option_price = S * norm.cdf(d1) - K * np.exp(-r * T) * norm.cdf(d2)\n",
    "    return option_price\n",
    "\n",
    "def objective_function(params, S, K, T, market_price):\n",
    "    sigma, r = params\n",
    "\n",
    "    option_price = black_scholes(S, K, T, r, sigma)\n",
    "    return (option_price - market_price) ** 2"
   ]
  },
  {
   "cell_type": "markdown",
   "metadata": {},
   "source": [
    "# Usage\n",
    "\n",
    "Lets try this on actual options data. We will use the website [https://www.nasdaq.com/market-activity/stocks/tsla/option-chain](https://www.nasdaq.com/market-activity/stocks/tsla/option-chain) to get current options data for Tesla stock. Below is a screenshot of the data we will use from the website. The circled row is the option we will use as an example.\n",
    "\n",
    "![TSLA_options.png](TSLA_options.png)"
   ]
  },
  {
   "cell_type": "markdown",
   "metadata": {},
   "source": [
    "Below is the code which sets up the optimization problem and solves it. We first initialize a random guess for the $r$ and $\\sigma$ parameters. We then set the constraints that $r$ and $\\sigma$ to be within the range defined in our assumtions. We pass the inital guesses and our options contract data into the objective function and minimize."
   ]
  },
  {
   "cell_type": "code",
   "execution_count": 367,
   "metadata": {},
   "outputs": [],
   "source": [
    "def get_results(S, K, T, market_price):\n",
    "    np.random.seed(0)\n",
    "\n",
    "    constraints = [\n",
    "        {'type': 'ineq', 'fun': lambda params: params[0] - 0.1},\n",
    "        {'type': 'ineq', 'fun': lambda params: 1 - params[0]},\n",
    "        {'type': 'ineq', 'fun': lambda params: params[1] - 0.005},\n",
    "        {'type': 'ineq', 'fun': lambda params: 0.1 - params[1]}\n",
    "    ]\n",
    "\n",
    "    initial_guess_lambda_sigma = 0.5\n",
    "    initial_guess_lambda_r = 0.04\n",
    "    initial_guess = [initial_guess_lambda_sigma, initial_guess_lambda_r]\n",
    "\n",
    "    result = minimize(objective_function, initial_guess, args=(S, K, T, market_price), \n",
    "                    constraints=constraints)\n",
    "\n",
    "    if result.success:\n",
    "        optimal_lambda_sigma, optimal_lambda_r = result.x\n",
    "\n",
    "        print(\"Optimized rate parameter for sigma (lambda_sigma):\", optimal_lambda_sigma)\n",
    "        print(\"Optimized rate parameter for interest rate (lambda_r):\", optimal_lambda_r)\n",
    "    else:\n",
    "        print(\"Optimization failed:\", result.message)"
   ]
  },
  {
   "cell_type": "markdown",
   "metadata": {},
   "source": [
    "## Case Study: Options Contract 1\n",
    "\n",
    "The first options contract, highlighted in the image above, has the following parameters:\n",
    "\n",
    "* Strike Price: $190\n",
    "* Time to Maturity: April 26, 2024 (~ 1/12 years)\n",
    "* Market Price of Call Option: $5.95 (this is the bid-price, which is the price at which the buyer is willing to buy the option at)\n",
    "* As of Fri. Mar 28, 2024, Tesla is trading at $175, so this is the price of the underlying asset\n",
    "\n",
    "This contract states that the buyer has the right to buy Tesla stock at $190 on April 26, 2024. The buyer pays $5.95 for this right. If Tesla is trading above $190 on April 26, 2024, the buyer can exercise the option and make a profit. If Tesla is trading below $190, the buyer can let the option expire and lose the $5.95 paid for the option.\n",
    "\n",
    "We plug that information into the optimization problem and solve it below."
   ]
  },
  {
   "cell_type": "code",
   "execution_count": 368,
   "metadata": {},
   "outputs": [
    {
     "name": "stdout",
     "output_type": "stream",
     "text": [
      "Optimized rate parameter for sigma (lambda_sigma): 0.5520447592581064\n",
      "Optimized rate parameter for interest rate (lambda_r): 0.07925645706441156\n"
     ]
    }
   ],
   "source": [
    "S = 175\n",
    "K = 190\n",
    "T = 1/12\n",
    "market_price = 5.95\n",
    "\n",
    "get_results(S, K, T, market_price)"
   ]
  },
  {
   "cell_type": "markdown",
   "metadata": {},
   "source": [
    "From the above, we see that the optimal $r$ and $\\sigma$ parameters are 0.08 and 0.55 respectively. This means that, based on our model, we should buy this option if the interest rate is 8.4% and the volatility is 57%. As of March. 2024, the US baseline interest rate is around 5%, so the model didn't perform terribly, but to make this more realistics, we'd need better assumptions for the interest rate and volatility distributions."
   ]
  },
  {
   "cell_type": "markdown",
   "metadata": {},
   "source": [
    "## Case Study: Options Contract 2\n",
    "\n",
    "The second options contract, highlighted in the image above, has the following parameters:\n",
    "\n",
    "* Strike Price: $192.50\n",
    "* Time to Maturity: April 19, 2024 (~ 1/24 years)\n",
    "* Market Price of Call Option: $1.84\n",
    "* As of Fri. Mar 28, 2024, Tesla is trading at $175, so this is the price of the underlying asset\n",
    "\n",
    "We plug that information into the optimization problem and solve it below."
   ]
  },
  {
   "cell_type": "code",
   "execution_count": 369,
   "metadata": {},
   "outputs": [
    {
     "name": "stdout",
     "output_type": "stream",
     "text": [
      "Optimized rate parameter for sigma (lambda_sigma): 0.5021255518530079\n",
      "Optimized rate parameter for interest rate (lambda_r): 0.04028925142128283\n"
     ]
    }
   ],
   "source": [
    "S = 175\n",
    "K = 192.50\n",
    "T = 1/24\n",
    "market_price = 1.84\n",
    "\n",
    "get_results(S, K, T, market_price)"
   ]
  },
  {
   "cell_type": "markdown",
   "metadata": {},
   "source": [
    "From the above, we see that the optimal $r$ and $\\sigma$ parameters are 0.04 and 0.50 respectively. This means that, based on our model, we should buy this option if the interest rate is 4.0% and the volatility is 50%."
   ]
  },
  {
   "cell_type": "markdown",
   "metadata": {},
   "source": [
    "## Conclusion\n",
    "\n",
    "In this report, we implemented a method to optimize financial options contracts using the Black-Scholes model and the `scipy` library. By comparing theoretical option prices with market prices, we assessed whether options were underpriced or overpriced in the current market. Our implementation utilized the `scipy.optimize.minimize` function with constraints on interest rates and volatilities. Through case studies on Tesla options contracts, we demonstrated the effectiveness of our approach. While our method provides a practical framework for option pricing, further refinements are needed to enhance its accuracy and realism, particularly in incorporating more nuanced assumptions for market parameters."
   ]
  }
 ],
 "metadata": {
  "kernelspec": {
   "display_name": "Python 3",
   "language": "python",
   "name": "python3"
  },
  "language_info": {
   "codemirror_mode": {
    "name": "ipython",
    "version": 3
   },
   "file_extension": ".py",
   "mimetype": "text/x-python",
   "name": "python",
   "nbconvert_exporter": "python",
   "pygments_lexer": "ipython3",
   "version": "3.12.0"
  }
 },
 "nbformat": 4,
 "nbformat_minor": 2
}
