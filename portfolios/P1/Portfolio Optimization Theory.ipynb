{
 "cells": [
  {
   "cell_type": "markdown",
   "metadata": {},
   "source": [
    "# Portfolio Optimization Theory"
   ]
  },
  {
   "cell_type": "markdown",
   "metadata": {},
   "source": [
    "## Introduction\n",
    "\n",
    "The goal of this project is to learn about the foundation of financial portfolio optimization. The project is divided into three parts. In the first part, we will learn about the history of portfolio optimization. In the second part, we will learn about the theory of portfolio optimization, which includes the most well-known optimization model called Markowitz portfolio optimization. Lastly, we will talk about some criticisms of the Markowitz portfolio optimization problem."
   ]
  },
  {
   "cell_type": "markdown",
   "metadata": {},
   "source": [
    "## History\n",
    "\n",
    "Portfolio optimization has a straightforward yet impactful history, primarily rooted in the field of finance. In the 1950s and 1960s, the modern portfolio theory (MPT) emerged as a fundamental concept. Developed by economist Harry Markowitz, MPT introduced the idea that investors could construct portfolios to maximize expected returns for a given level of risk or minimize risk for a targeted level of return. Markowitz's work laid the groundwork for understanding the benefits of diversification in investment strategies, emphasizing the importance of considering the correlation between different assets. Markowitz specifically developed a mathematical model to determine the optimal allocation of assets in a portfolio, which is now known as the Markowitz portfolio optimization problem."
   ]
  },
  {
   "cell_type": "markdown",
   "metadata": {},
   "source": [
    "## Mathematical Formulation\n",
    "\n",
    "### Assumptions\n",
    "\n",
    "The Markowitz Portfolio Theory makes several assumptions, some of which from Markowitz's original paper and some of which I added because I thought they were important. Here are the assumptions:\n",
    "\n",
    "1. **Normal Distribution of Returns:** The model assumes that the returns of assets are normally distributed. This assumption is crucial for the model's reliance on mean and variance as measures of return and risk (Markowitz, 1952).\n",
    "\n",
    "1. **Investor's Risk Aversion:** The model assumes that investors are risk-averse and seek to maximize expected returns for a given level of risk. This is reflected in the use of a risk aversion parameter $\\gamma$ in the objective function (Markowitz, 1952).\n",
    "\n",
    "1. **Single Period Model:** The model is designed for a single time period, implying that investor decisions are made without considering the future. It doesn't account for changing economic conditions or evolving investor preferences (Markowitz, 1952).\n",
    "\n",
    "1. **Risk is Measured by Variance:** The model uses variance (and standard deviation) as a measure of risk. It assumes that investors consider risk solely in terms of the variability of returns and that higher variance equates to higher risk (Markowitz, 1952).\n",
    "\n",
    "1. **Static Expected Returns:** The model assumes that expected returns remain constant over the investment horizon. It doesn't account for changes in economic conditions or market expectations that could impact future returns (Markowitz, 1952).\n",
    "\n",
    "1. **Perfectly Divisible Assets:** The model assumes that assets are perfectly divisible, meaning investors can allocate any fraction of their wealth to any asset. This assumption may not hold in reality, where assets are typically bought and sold in discrete units.\n",
    "\n",
    "1. **No Transaction Costs:** The model assumes that there are no transaction costs associated with buying or selling assets. In reality, transaction costs can significantly impact portfolio performance.\n",
    "\n",
    "1. **Homogeneous Expectations:** All investors are assumed to have the same expectations regarding returns and risk, and they base their decisions on a common set of parameters. This assumption overlooks the diversity of investor beliefs and preferences.\n",
    "\n",
    "1. **No Taxes:** The model does not consider taxes, and it assumes that investors can trade assets without incurring tax liabilities. In practice, taxes can have a substantial impact on investment decisions and portfolio performance.\n",
    "\n",
    "1. **Use of Historical Data:** The model relies on historical data to estimate expected returns and the covariance matrix. It assumes that past performance is indicative of future behavior, which may not always be the case."
   ]
  },
  {
   "cell_type": "markdown",
   "metadata": {},
   "source": [
    "### Markowitz Portfolio Optimization\n",
    "\n",
    "The idea behind Markowitz portfolio optimization is to find a portfolio of assets that has the highest expected return based on a given level of risk.\n",
    "\n",
    "The Markowitz portfolio optimization problem is formulated as follows (Kempthorne, 2013):\n",
    "\n",
    "$$\\begin{aligned}\n",
    "& \\underset{w}{\\text{maximize}}\n",
    "& & w^T R - \\gamma w^T \\Sigma w \\\\\n",
    "& \\text{subject to}\n",
    "& & w^T \\bf{1} = 1\n",
    "\\end{aligned}$$\n",
    "\n",
    "where $w$ is a vector of weights, $R$ is a vector of expected returns, $\\Sigma$ is a covariance matrix, $\\gamma \\geq 0$ is a risk aversion parameter and $\\bf{1}$ is a vector of 1s. Higher gamma means the investor is less tolerant of risky assets. The objective function is the expected return minus the expected loss (risk), where the risk is defined as the variance of the portfolio. The constraint is that the sum of the weights must equal 1, which ensures that the portfolio is fully invested."
   ]
  },
  {
   "cell_type": "markdown",
   "metadata": {},
   "source": [
    "## Criticisms\n",
    "\n",
    "While the Markowitz model has been influential in the field of portfolio optimization, it is not without its criticisms. Here are some of the main criticisms that one might have of the Markowitz model:\n",
    "\n",
    "1. **Assumption of Normality:** The model assumes that returns are normally distributed. In reality, financial returns often exhibit non-normal distributions, including fat tails and skewness. This can lead to suboptimal portfolios if the actual distribution deviates significantly from the assumed normal distribution.\n",
    "\n",
    "2. **Sensitivity to Input Estimates:** The model is highly sensitive to the estimates of expected returns and covariance matrix. Small changes in these inputs can lead to significant changes in the resulting portfolio. Estimating these parameters accurately is challenging, especially with limited historical data.\n",
    "\n",
    "3. **Single-Period Model:** The Markowitz model is a single-period model that doesn't account for the dynamic nature of financial markets. It assumes that expected returns and risk parameters remain constant over time, which may not hold true in practice.\n",
    "\n",
    "4. **Diversification Benefit Assumption:** While diversification is a key principle in the model, the benefits of diversification may diminish during extreme market conditions or financial crises when correlations among assets tend to increase.\n",
    "\n",
    "5. **Ignoring Transaction Costs and Taxes:** The model doesn't consider transaction costs or tax implications, which are critical factors in real-world portfolio management. Frequent trading, as suggested by the model, may incur substantial costs that can significantly impact portfolio performance.\n",
    "\n",
    "6. **No Consideration for Investor Preferences:** The model assumes that investors are solely risk-averse and make decisions solely based on expected return and risk. In reality, investors may have diverse preferences, including non-linear objective functions and behavioral biases that are not captured by the model.\n",
    "\n",
    "7. **Focus on Variance as a Risk Measure:** The use of variance as a measure of risk implies that all types of risk are symmetric and can be adequately captured by the variance of the asset. However, investors may be concerned about other risk measures that are not considered in the Markowitz framework.\n",
    "\n",
    "8. **Inability to Handle Discrete Changes:** The model assumes continuous changes in asset weights, which may not be practical in real-world scenarios where investments are typically made in discrete quantities.\n",
    "\n",
    "9. **Inability to Capture Black Swan Events:** The model is not designed to handle extreme events or \"Black Swan\" events that may have a significant impact on the portfolio but have a low probability of occurrence.\n",
    "\n",
    "10. **Out-of-Sample Performance:** The historical estimates used in the model may not accurately represent future market conditions. The model's performance in out-of-sample periods might not be as effective as its performance in the historical estimation period.\n",
    "\n",
    "Despite these criticisms, the Markowitz model laid the foundation for modern portfolio theory, and many subsequent models have built upon its principles, attempting to address some of these limitations. Investors and practitioners often use more advanced techniques that incorporate these criticisms and provide more realistic portfolio management strategies."
   ]
  },
  {
   "cell_type": "markdown",
   "metadata": {},
   "source": [
    "## References\n",
    "\n",
    "* Markowitz, H. (1952). Portfolio Selection. The Journal of Finance, 7(1), 77-91. [https://doi.org/10.2307/2975974](https://doi.org/10.2307/2975974)\n",
    "\n",
    "* Kempthorne, P. (2013). Lecture 14: Portfolio Theory, MIT 18.S096. Topics In Mathematics With Applications In Finance. [https://ocw.mit.edu/courses/18-s096-topics-in-mathematics-with-applications-in-finance-fall-2013/bba02164ba6642f7d516df35347aec01_MIT18_S096F13_lecnote14.pdf](https://ocw.mit.edu/courses/18-s096-topics-in-mathematics-with-applications-in-finance-fall-2013/bba02164ba6642f7d516df35347aec01_MIT18_S096F13_lecnote14.pdf)"
   ]
  }
 ],
 "metadata": {
  "kernelspec": {
   "display_name": "Python 3",
   "language": "python",
   "name": "python3"
  },
  "language_info": {
   "codemirror_mode": {
    "name": "ipython",
    "version": 3
   },
   "file_extension": ".py",
   "mimetype": "text/x-python",
   "name": "python",
   "nbconvert_exporter": "python",
   "pygments_lexer": "ipython3",
   "version": "3.12.0"
  }
 },
 "nbformat": 4,
 "nbformat_minor": 2
}
